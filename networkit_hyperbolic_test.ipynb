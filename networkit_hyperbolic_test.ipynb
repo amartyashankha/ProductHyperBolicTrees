{
 "cells": [
  {
   "cell_type": "code",
   "execution_count": 6,
   "metadata": {},
   "outputs": [],
   "source": [
    "import networkit as nw\n",
    "import time"
   ]
  },
  {
   "cell_type": "code",
   "execution_count": 7,
   "metadata": {},
   "outputs": [],
   "source": [
    "nw.setNumberOfThreads(1)"
   ]
  },
  {
   "cell_type": "code",
   "execution_count": 12,
   "metadata": {},
   "outputs": [
    {
     "name": "stdout",
     "output_type": "stream",
     "text": [
      "--- 202312 edges sampled among 65536 vertices ---\n",
      "--- Average degree: 6.174072265625 ---\n",
      "--- 548.9170841203616 nanoseconds per edge ---\n"
     ]
    }
   ],
   "source": [
    "start_time = time.time()\n",
    "g = nw.generators.HyperbolicGenerator(2 ** 16).generate()\n",
    "elapsed_time = time.time() - start_time\n",
    "m = g.numberOfEdges()\n",
    "print(\"--- {} edges sampled among {} vertices ---\".format(g.numberOfEdges(), g.numberOfNodes()))\n",
    "print(\"--- Average degree: {} ---\".format(2.0 * g.numberOfEdges() / g.numberOfNodes()))\n",
    "print(\"--- %s nanoseconds per edge ---\" % (1e9 * elapsed_time / m))"
   ]
  },
  {
   "cell_type": "code",
   "execution_count": 4,
   "metadata": {},
   "outputs": [
    {
     "ename": "NameError",
     "evalue": "name 'overview' is not defined",
     "output_type": "error",
     "traceback": [
      "\u001b[0;31m---------------------------------------------------------------------------\u001b[0m",
      "\u001b[0;31mNameError\u001b[0m                                 Traceback (most recent call last)",
      "\u001b[0;32m<ipython-input-4-c2114ddd43d5>\u001b[0m in \u001b[0;36m<module>\u001b[0;34m\u001b[0m\n\u001b[0;32m----> 1\u001b[0;31m \u001b[0moverview\u001b[0m\u001b[0;34m(\u001b[0m\u001b[0mg\u001b[0m\u001b[0;34m)\u001b[0m\u001b[0;34m\u001b[0m\u001b[0;34m\u001b[0m\u001b[0m\n\u001b[0m",
      "\u001b[0;31mNameError\u001b[0m: name 'overview' is not defined"
     ]
    }
   ],
   "source": [
    "overview(g)"
   ]
  },
  {
   "cell_type": "code",
   "execution_count": 6,
   "metadata": {},
   "outputs": [
    {
     "data": {
      "text/plain": [
       "298392"
      ]
     },
     "execution_count": 6,
     "metadata": {},
     "output_type": "execute_result"
    }
   ],
   "source": []
  },
  {
   "cell_type": "code",
   "execution_count": 7,
   "metadata": {},
   "outputs": [
    {
     "data": {
      "text/plain": [
       "['BFSEdgesFrom',\n",
       " 'BFSfrom',\n",
       " 'DFSEdgesFrom',\n",
       " 'DFSfrom',\n",
       " '__class__',\n",
       " '__copy__',\n",
       " '__deepcopy__',\n",
       " '__delattr__',\n",
       " '__dir__',\n",
       " '__doc__',\n",
       " '__eq__',\n",
       " '__format__',\n",
       " '__ge__',\n",
       " '__getattribute__',\n",
       " '__gt__',\n",
       " '__hash__',\n",
       " '__init__',\n",
       " '__init_subclass__',\n",
       " '__le__',\n",
       " '__lt__',\n",
       " '__ne__',\n",
       " '__new__',\n",
       " '__pyx_vtable__',\n",
       " '__reduce__',\n",
       " '__reduce_ex__',\n",
       " '__repr__',\n",
       " '__setattr__',\n",
       " '__setstate__',\n",
       " '__sizeof__',\n",
       " '__str__',\n",
       " '__subclasshook__',\n",
       " 'addEdge',\n",
       " 'addNode',\n",
       " 'append',\n",
       " 'checkConsistency',\n",
       " 'compactEdges',\n",
       " 'copyNodes',\n",
       " 'degree',\n",
       " 'degreeIn',\n",
       " 'degreeOut',\n",
       " 'density',\n",
       " 'edgeId',\n",
       " 'edges',\n",
       " 'forEdges',\n",
       " 'forEdgesOf',\n",
       " 'forInEdgesOf',\n",
       " 'forNodePairs',\n",
       " 'forNodes',\n",
       " 'forNodesInRandomOrder',\n",
       " 'getCoordinate',\n",
       " 'getName',\n",
       " 'hasEdge',\n",
       " 'hasEdgeIds',\n",
       " 'hasNode',\n",
       " 'increaseWeight',\n",
       " 'indexEdges',\n",
       " 'initCoordinates',\n",
       " 'isDirected',\n",
       " 'isIsolated',\n",
       " 'isWeighted',\n",
       " 'maxDegree',\n",
       " 'maxDegreeIn',\n",
       " 'maxWeightedDegree',\n",
       " 'maxWeightedDegreeIn',\n",
       " 'merge',\n",
       " 'neighbors',\n",
       " 'nodes',\n",
       " 'numberOfEdges',\n",
       " 'numberOfNodes',\n",
       " 'numberOfSelfLoops',\n",
       " 'randomEdge',\n",
       " 'randomEdges',\n",
       " 'randomNeighbor',\n",
       " 'randomNode',\n",
       " 'removeAllEdges',\n",
       " 'removeEdge',\n",
       " 'removeEdgesFromIsolatedSet',\n",
       " 'removeNode',\n",
       " 'removeSelfLoops',\n",
       " 'restoreNode',\n",
       " 'setCoordinate',\n",
       " 'setName',\n",
       " 'setWeight',\n",
       " 'size',\n",
       " 'sortEdges',\n",
       " 'subgraphFromNodes',\n",
       " 'swapEdge',\n",
       " 'toString',\n",
       " 'toUndirected',\n",
       " 'toUnweighted',\n",
       " 'totalEdgeWeight',\n",
       " 'transpose',\n",
       " 'upperEdgeIdBound',\n",
       " 'upperNodeIdBound',\n",
       " 'weight',\n",
       " 'weightedDegree']"
      ]
     },
     "execution_count": 7,
     "metadata": {},
     "output_type": "execute_result"
    }
   ],
   "source": [
    "dir(g)"
   ]
  },
  {
   "cell_type": "code",
   "execution_count": null,
   "metadata": {},
   "outputs": [],
   "source": []
  }
 ],
 "metadata": {
  "kernelspec": {
   "display_name": "hyperbolic",
   "language": "python",
   "name": "hyperbolic"
  },
  "language_info": {
   "codemirror_mode": {
    "name": "ipython",
    "version": 3
   },
   "file_extension": ".py",
   "mimetype": "text/x-python",
   "name": "python",
   "nbconvert_exporter": "python",
   "pygments_lexer": "ipython3",
   "version": "3.7.3"
  }
 },
 "nbformat": 4,
 "nbformat_minor": 2
}
